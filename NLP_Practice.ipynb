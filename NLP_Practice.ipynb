{
  "cells": [
    {
      "cell_type": "markdown",
      "metadata": {
        "id": "view-in-github",
        "colab_type": "text"
      },
      "source": [
        "<a href=\"https://colab.research.google.com/github/KanoknatKr/For-me/blob/main/NLP_Practice.ipynb\" target=\"_parent\"><img src=\"https://colab.research.google.com/assets/colab-badge.svg\" alt=\"Open In Colab\"/></a>"
      ]
    },
    {
      "cell_type": "markdown",
      "metadata": {
        "id": "r04VJAMBcWkJ"
      },
      "source": [
        "1) ให้ลบเครื่องหมายวรรคตอนออกจากเพลงต่อไปนี้ให้หมด (punctuation) เช่น , หรือ !"
      ]
    },
    {
      "cell_type": "code",
      "execution_count": 1,
      "metadata": {
        "colab": {
          "base_uri": "https://localhost:8080/"
        },
        "id": "WeMXdvpXZytk",
        "outputId": "803b4381-5cad-4b88-9963-83bcaa64aea9"
      },
      "outputs": [
        {
          "output_type": "stream",
          "name": "stdout",
          "text": [
            "Fly me to the moon\n",
            "Let me play among the stars        \n",
            "Let me see what spring is like on        \n",
            "A-Jupiter and Mars\n",
            "In other words, hold my hand        \n",
            "In other words, baby, kiss me        \n",
            "Fill my heart with song and let me sing forevermore        \n",
            "You are all I long for        \n",
            "All I worship and adore        \n",
            "In other words, please be true        \n",
            "In other words, I love You        \n",
            "Fill my heart with song        \n",
            "Let me sing forevermore        \n",
            "You are all I long for, all I worship and adore        \n",
            "In other words, please be true        \n",
            "In other words        \n",
            "In other words        \n",
            "I LOVE YOU!\n"
          ]
        }
      ],
      "source": [
        "song = \"Fly me to the moon\\nLet me play among the stars\\\n",
        "        \\nLet me see what spring is like on\\\n",
        "        \\nA-Jupiter and Mars\\nIn other words, hold my hand\\\n",
        "        \\nIn other words, baby, kiss me\\\n",
        "        \\nFill my heart with song and let me sing forevermore\\\n",
        "        \\nYou are all I long for\\\n",
        "        \\nAll I worship and adore\\\n",
        "        \\nIn other words, please be true\\\n",
        "        \\nIn other words, I love You\\\n",
        "        \\nFill my heart with song\\\n",
        "        \\nLet me sing forevermore\\\n",
        "        \\nYou are all I long for, all I worship and adore\\\n",
        "        \\nIn other words, please be true\\\n",
        "        \\nIn other words\\\n",
        "        \\nIn other words\\\n",
        "        \\nI LOVE YOU!\"\n",
        "print(song)"
      ]
    },
    {
      "cell_type": "code",
      "source": [
        "# your code here\n",
        "import re\n",
        "\n",
        "song = \"Fly me to the moon\\nLet me play among the stars\\\n",
        "        \\nLet me see what spring is like on\\\n",
        "        \\nA-Jupiter and Mars\\nIn other words, hold my hand\\\n",
        "        \\nIn other words, baby, kiss me\\\n",
        "        \\nFill my heart with song and let me sing forevermore\\\n",
        "        \\nYou are all I long for\\\n",
        "        \\nAll I worship and adore\\\n",
        "        \\nIn other words, please be true\\\n",
        "        \\nIn other words, I love You\\\n",
        "        \\nFill my heart with song\\\n",
        "        \\nLet me sing forevermore\\\n",
        "        \\nYou are all I long for, all I worship and adore\\\n",
        "        \\nIn other words, please be true\\\n",
        "        \\nIn other words\\\n",
        "        \\nIn other words\\\n",
        "        \\nI LOVE YOU!\"\n",
        "\n",
        "song_no_punc = re.sub(r'[^\\w\\s]', '', song)\n",
        "print(song_no_punc)"
      ],
      "metadata": {
        "id": "pCH3JEg0EAiH",
        "outputId": "5ec410b6-113b-4714-971d-848861d84899",
        "colab": {
          "base_uri": "https://localhost:8080/"
        }
      },
      "execution_count": 9,
      "outputs": [
        {
          "output_type": "stream",
          "name": "stdout",
          "text": [
            "Fly me to the moon\n",
            "Let me play among the stars        \n",
            "Let me see what spring is like on        \n",
            "AJupiter and Mars\n",
            "In other words hold my hand        \n",
            "In other words baby kiss me        \n",
            "Fill my heart with song and let me sing forevermore        \n",
            "You are all I long for        \n",
            "All I worship and adore        \n",
            "In other words please be true        \n",
            "In other words I love You        \n",
            "Fill my heart with song        \n",
            "Let me sing forevermore        \n",
            "You are all I long for all I worship and adore        \n",
            "In other words please be true        \n",
            "In other words        \n",
            "In other words        \n",
            "I LOVE YOU\n"
          ]
        }
      ]
    },
    {
      "cell_type": "markdown",
      "metadata": {
        "id": "6RN2pwEKdjdv"
      },
      "source": [
        "2) นับคำว่ารัก (love) ทั้งหมดในเพลงดังกล่าว รวมคำที่เขียนด้วยตัวอักษรทั้งพิมพ์ใหญ่และพิมพ์เล็ก"
      ]
    },
    {
      "cell_type": "code",
      "source": [
        "# your code here\n",
        "song_lower = song_no_punc.lower()\n",
        "\n",
        "love_count = len(re.findall(r'love', song_lower))\n",
        "\n",
        "print(f\"คำว่ารัก (love) ทั้งหมดในเพลงมี {love_count} คำ\")"
      ],
      "metadata": {
        "id": "ooH4DLU2Eg_O",
        "outputId": "d081870e-6076-490d-fbe0-4ac7f986cfca",
        "colab": {
          "base_uri": "https://localhost:8080/"
        }
      },
      "execution_count": 8,
      "outputs": [
        {
          "output_type": "stream",
          "name": "stdout",
          "text": [
            "คำว่ารัก (love) ทั้งหมดในเพลงมี 2 คำ\n"
          ]
        }
      ]
    },
    {
      "cell_type": "markdown",
      "metadata": {
        "id": "gVxf2cBzgPhN"
      },
      "source": [
        "3) จากข้อมูลต่อไปนี้ สร้างคอลัมน์ใหม่ ได้แก่ Firstname, Lastname, Weekday และ Country\n",
        "* Firstname แยกชื่อจาก Fullname\n",
        "* Lastname แยกนามสกุลจาก Fullname\n",
        "* Weekday วันเกิดคือวันอะไร (Monday - Sunday)\n",
        "* Country แยกประเทศจาก Address"
      ]
    },
    {
      "cell_type": "code",
      "execution_count": 10,
      "metadata": {
        "colab": {
          "base_uri": "https://localhost:8080/",
          "height": 175
        },
        "id": "DoTKusS3gLrq",
        "outputId": "9f27dfbf-af67-4635-f277-ed17105eb4eb"
      },
      "outputs": [
        {
          "output_type": "execute_result",
          "data": {
            "text/plain": [
              "        Fullname   Birthdate                                       Address\n",
              "0  Pitch Wiratch  15/05/2015   555 KKU Village, Khon Kaen, Thailand, 40000\n",
              "1     Sam Sonite  10/03/1910  13-15 avenue de la Liberté, Luxembourg, 1931\n",
              "2   Mickey Mouse  18/11/1928         1375 Lake Buena Vista, FL, USA, 32830\n",
              "3   Felonius Gru  28/09/1960      1234 Albuquerque, New Mexico, USA, 87777"
            ],
            "text/html": [
              "\n",
              "  <div id=\"df-725f0f56-b284-4183-af77-5c7dfb827346\" class=\"colab-df-container\">\n",
              "    <div>\n",
              "<style scoped>\n",
              "    .dataframe tbody tr th:only-of-type {\n",
              "        vertical-align: middle;\n",
              "    }\n",
              "\n",
              "    .dataframe tbody tr th {\n",
              "        vertical-align: top;\n",
              "    }\n",
              "\n",
              "    .dataframe thead th {\n",
              "        text-align: right;\n",
              "    }\n",
              "</style>\n",
              "<table border=\"1\" class=\"dataframe\">\n",
              "  <thead>\n",
              "    <tr style=\"text-align: right;\">\n",
              "      <th></th>\n",
              "      <th>Fullname</th>\n",
              "      <th>Birthdate</th>\n",
              "      <th>Address</th>\n",
              "    </tr>\n",
              "  </thead>\n",
              "  <tbody>\n",
              "    <tr>\n",
              "      <th>0</th>\n",
              "      <td>Pitch Wiratch</td>\n",
              "      <td>15/05/2015</td>\n",
              "      <td>555 KKU Village, Khon Kaen, Thailand, 40000</td>\n",
              "    </tr>\n",
              "    <tr>\n",
              "      <th>1</th>\n",
              "      <td>Sam Sonite</td>\n",
              "      <td>10/03/1910</td>\n",
              "      <td>13-15 avenue de la Liberté, Luxembourg, 1931</td>\n",
              "    </tr>\n",
              "    <tr>\n",
              "      <th>2</th>\n",
              "      <td>Mickey Mouse</td>\n",
              "      <td>18/11/1928</td>\n",
              "      <td>1375 Lake Buena Vista, FL, USA, 32830</td>\n",
              "    </tr>\n",
              "    <tr>\n",
              "      <th>3</th>\n",
              "      <td>Felonius Gru</td>\n",
              "      <td>28/09/1960</td>\n",
              "      <td>1234 Albuquerque, New Mexico, USA, 87777</td>\n",
              "    </tr>\n",
              "  </tbody>\n",
              "</table>\n",
              "</div>\n",
              "    <div class=\"colab-df-buttons\">\n",
              "\n",
              "  <div class=\"colab-df-container\">\n",
              "    <button class=\"colab-df-convert\" onclick=\"convertToInteractive('df-725f0f56-b284-4183-af77-5c7dfb827346')\"\n",
              "            title=\"Convert this dataframe to an interactive table.\"\n",
              "            style=\"display:none;\">\n",
              "\n",
              "  <svg xmlns=\"http://www.w3.org/2000/svg\" height=\"24px\" viewBox=\"0 -960 960 960\">\n",
              "    <path d=\"M120-120v-720h720v720H120Zm60-500h600v-160H180v160Zm220 220h160v-160H400v160Zm0 220h160v-160H400v160ZM180-400h160v-160H180v160Zm440 0h160v-160H620v160ZM180-180h160v-160H180v160Zm440 0h160v-160H620v160Z\"/>\n",
              "  </svg>\n",
              "    </button>\n",
              "\n",
              "  <style>\n",
              "    .colab-df-container {\n",
              "      display:flex;\n",
              "      gap: 12px;\n",
              "    }\n",
              "\n",
              "    .colab-df-convert {\n",
              "      background-color: #E8F0FE;\n",
              "      border: none;\n",
              "      border-radius: 50%;\n",
              "      cursor: pointer;\n",
              "      display: none;\n",
              "      fill: #1967D2;\n",
              "      height: 32px;\n",
              "      padding: 0 0 0 0;\n",
              "      width: 32px;\n",
              "    }\n",
              "\n",
              "    .colab-df-convert:hover {\n",
              "      background-color: #E2EBFA;\n",
              "      box-shadow: 0px 1px 2px rgba(60, 64, 67, 0.3), 0px 1px 3px 1px rgba(60, 64, 67, 0.15);\n",
              "      fill: #174EA6;\n",
              "    }\n",
              "\n",
              "    .colab-df-buttons div {\n",
              "      margin-bottom: 4px;\n",
              "    }\n",
              "\n",
              "    [theme=dark] .colab-df-convert {\n",
              "      background-color: #3B4455;\n",
              "      fill: #D2E3FC;\n",
              "    }\n",
              "\n",
              "    [theme=dark] .colab-df-convert:hover {\n",
              "      background-color: #434B5C;\n",
              "      box-shadow: 0px 1px 3px 1px rgba(0, 0, 0, 0.15);\n",
              "      filter: drop-shadow(0px 1px 2px rgba(0, 0, 0, 0.3));\n",
              "      fill: #FFFFFF;\n",
              "    }\n",
              "  </style>\n",
              "\n",
              "    <script>\n",
              "      const buttonEl =\n",
              "        document.querySelector('#df-725f0f56-b284-4183-af77-5c7dfb827346 button.colab-df-convert');\n",
              "      buttonEl.style.display =\n",
              "        google.colab.kernel.accessAllowed ? 'block' : 'none';\n",
              "\n",
              "      async function convertToInteractive(key) {\n",
              "        const element = document.querySelector('#df-725f0f56-b284-4183-af77-5c7dfb827346');\n",
              "        const dataTable =\n",
              "          await google.colab.kernel.invokeFunction('convertToInteractive',\n",
              "                                                    [key], {});\n",
              "        if (!dataTable) return;\n",
              "\n",
              "        const docLinkHtml = 'Like what you see? Visit the ' +\n",
              "          '<a target=\"_blank\" href=https://colab.research.google.com/notebooks/data_table.ipynb>data table notebook</a>'\n",
              "          + ' to learn more about interactive tables.';\n",
              "        element.innerHTML = '';\n",
              "        dataTable['output_type'] = 'display_data';\n",
              "        await google.colab.output.renderOutput(dataTable, element);\n",
              "        const docLink = document.createElement('div');\n",
              "        docLink.innerHTML = docLinkHtml;\n",
              "        element.appendChild(docLink);\n",
              "      }\n",
              "    </script>\n",
              "  </div>\n",
              "\n",
              "\n",
              "<div id=\"df-820b1df0-41e6-403d-832e-bd8538c64729\">\n",
              "  <button class=\"colab-df-quickchart\" onclick=\"quickchart('df-820b1df0-41e6-403d-832e-bd8538c64729')\"\n",
              "            title=\"Suggest charts\"\n",
              "            style=\"display:none;\">\n",
              "\n",
              "<svg xmlns=\"http://www.w3.org/2000/svg\" height=\"24px\"viewBox=\"0 0 24 24\"\n",
              "     width=\"24px\">\n",
              "    <g>\n",
              "        <path d=\"M19 3H5c-1.1 0-2 .9-2 2v14c0 1.1.9 2 2 2h14c1.1 0 2-.9 2-2V5c0-1.1-.9-2-2-2zM9 17H7v-7h2v7zm4 0h-2V7h2v10zm4 0h-2v-4h2v4z\"/>\n",
              "    </g>\n",
              "</svg>\n",
              "  </button>\n",
              "\n",
              "<style>\n",
              "  .colab-df-quickchart {\n",
              "      --bg-color: #E8F0FE;\n",
              "      --fill-color: #1967D2;\n",
              "      --hover-bg-color: #E2EBFA;\n",
              "      --hover-fill-color: #174EA6;\n",
              "      --disabled-fill-color: #AAA;\n",
              "      --disabled-bg-color: #DDD;\n",
              "  }\n",
              "\n",
              "  [theme=dark] .colab-df-quickchart {\n",
              "      --bg-color: #3B4455;\n",
              "      --fill-color: #D2E3FC;\n",
              "      --hover-bg-color: #434B5C;\n",
              "      --hover-fill-color: #FFFFFF;\n",
              "      --disabled-bg-color: #3B4455;\n",
              "      --disabled-fill-color: #666;\n",
              "  }\n",
              "\n",
              "  .colab-df-quickchart {\n",
              "    background-color: var(--bg-color);\n",
              "    border: none;\n",
              "    border-radius: 50%;\n",
              "    cursor: pointer;\n",
              "    display: none;\n",
              "    fill: var(--fill-color);\n",
              "    height: 32px;\n",
              "    padding: 0;\n",
              "    width: 32px;\n",
              "  }\n",
              "\n",
              "  .colab-df-quickchart:hover {\n",
              "    background-color: var(--hover-bg-color);\n",
              "    box-shadow: 0 1px 2px rgba(60, 64, 67, 0.3), 0 1px 3px 1px rgba(60, 64, 67, 0.15);\n",
              "    fill: var(--button-hover-fill-color);\n",
              "  }\n",
              "\n",
              "  .colab-df-quickchart-complete:disabled,\n",
              "  .colab-df-quickchart-complete:disabled:hover {\n",
              "    background-color: var(--disabled-bg-color);\n",
              "    fill: var(--disabled-fill-color);\n",
              "    box-shadow: none;\n",
              "  }\n",
              "\n",
              "  .colab-df-spinner {\n",
              "    border: 2px solid var(--fill-color);\n",
              "    border-color: transparent;\n",
              "    border-bottom-color: var(--fill-color);\n",
              "    animation:\n",
              "      spin 1s steps(1) infinite;\n",
              "  }\n",
              "\n",
              "  @keyframes spin {\n",
              "    0% {\n",
              "      border-color: transparent;\n",
              "      border-bottom-color: var(--fill-color);\n",
              "      border-left-color: var(--fill-color);\n",
              "    }\n",
              "    20% {\n",
              "      border-color: transparent;\n",
              "      border-left-color: var(--fill-color);\n",
              "      border-top-color: var(--fill-color);\n",
              "    }\n",
              "    30% {\n",
              "      border-color: transparent;\n",
              "      border-left-color: var(--fill-color);\n",
              "      border-top-color: var(--fill-color);\n",
              "      border-right-color: var(--fill-color);\n",
              "    }\n",
              "    40% {\n",
              "      border-color: transparent;\n",
              "      border-right-color: var(--fill-color);\n",
              "      border-top-color: var(--fill-color);\n",
              "    }\n",
              "    60% {\n",
              "      border-color: transparent;\n",
              "      border-right-color: var(--fill-color);\n",
              "    }\n",
              "    80% {\n",
              "      border-color: transparent;\n",
              "      border-right-color: var(--fill-color);\n",
              "      border-bottom-color: var(--fill-color);\n",
              "    }\n",
              "    90% {\n",
              "      border-color: transparent;\n",
              "      border-bottom-color: var(--fill-color);\n",
              "    }\n",
              "  }\n",
              "</style>\n",
              "\n",
              "  <script>\n",
              "    async function quickchart(key) {\n",
              "      const quickchartButtonEl =\n",
              "        document.querySelector('#' + key + ' button');\n",
              "      quickchartButtonEl.disabled = true;  // To prevent multiple clicks.\n",
              "      quickchartButtonEl.classList.add('colab-df-spinner');\n",
              "      try {\n",
              "        const charts = await google.colab.kernel.invokeFunction(\n",
              "            'suggestCharts', [key], {});\n",
              "      } catch (error) {\n",
              "        console.error('Error during call to suggestCharts:', error);\n",
              "      }\n",
              "      quickchartButtonEl.classList.remove('colab-df-spinner');\n",
              "      quickchartButtonEl.classList.add('colab-df-quickchart-complete');\n",
              "    }\n",
              "    (() => {\n",
              "      let quickchartButtonEl =\n",
              "        document.querySelector('#df-820b1df0-41e6-403d-832e-bd8538c64729 button');\n",
              "      quickchartButtonEl.style.display =\n",
              "        google.colab.kernel.accessAllowed ? 'block' : 'none';\n",
              "    })();\n",
              "  </script>\n",
              "</div>\n",
              "\n",
              "  <div id=\"id_e9e37a76-cab2-4f7d-8434-9c94bbede5a9\">\n",
              "    <style>\n",
              "      .colab-df-generate {\n",
              "        background-color: #E8F0FE;\n",
              "        border: none;\n",
              "        border-radius: 50%;\n",
              "        cursor: pointer;\n",
              "        display: none;\n",
              "        fill: #1967D2;\n",
              "        height: 32px;\n",
              "        padding: 0 0 0 0;\n",
              "        width: 32px;\n",
              "      }\n",
              "\n",
              "      .colab-df-generate:hover {\n",
              "        background-color: #E2EBFA;\n",
              "        box-shadow: 0px 1px 2px rgba(60, 64, 67, 0.3), 0px 1px 3px 1px rgba(60, 64, 67, 0.15);\n",
              "        fill: #174EA6;\n",
              "      }\n",
              "\n",
              "      [theme=dark] .colab-df-generate {\n",
              "        background-color: #3B4455;\n",
              "        fill: #D2E3FC;\n",
              "      }\n",
              "\n",
              "      [theme=dark] .colab-df-generate:hover {\n",
              "        background-color: #434B5C;\n",
              "        box-shadow: 0px 1px 3px 1px rgba(0, 0, 0, 0.15);\n",
              "        filter: drop-shadow(0px 1px 2px rgba(0, 0, 0, 0.3));\n",
              "        fill: #FFFFFF;\n",
              "      }\n",
              "    </style>\n",
              "    <button class=\"colab-df-generate\" onclick=\"generateWithVariable('df')\"\n",
              "            title=\"Generate code using this dataframe.\"\n",
              "            style=\"display:none;\">\n",
              "\n",
              "  <svg xmlns=\"http://www.w3.org/2000/svg\" height=\"24px\"viewBox=\"0 0 24 24\"\n",
              "       width=\"24px\">\n",
              "    <path d=\"M7,19H8.4L18.45,9,17,7.55,7,17.6ZM5,21V16.75L18.45,3.32a2,2,0,0,1,2.83,0l1.4,1.43a1.91,1.91,0,0,1,.58,1.4,1.91,1.91,0,0,1-.58,1.4L9.25,21ZM18.45,9,17,7.55Zm-12,3A5.31,5.31,0,0,0,4.9,8.1,5.31,5.31,0,0,0,1,6.5,5.31,5.31,0,0,0,4.9,4.9,5.31,5.31,0,0,0,6.5,1,5.31,5.31,0,0,0,8.1,4.9,5.31,5.31,0,0,0,12,6.5,5.46,5.46,0,0,0,6.5,12Z\"/>\n",
              "  </svg>\n",
              "    </button>\n",
              "    <script>\n",
              "      (() => {\n",
              "      const buttonEl =\n",
              "        document.querySelector('#id_e9e37a76-cab2-4f7d-8434-9c94bbede5a9 button.colab-df-generate');\n",
              "      buttonEl.style.display =\n",
              "        google.colab.kernel.accessAllowed ? 'block' : 'none';\n",
              "\n",
              "      buttonEl.onclick = () => {\n",
              "        google.colab.notebook.generateWithVariable('df');\n",
              "      }\n",
              "      })();\n",
              "    </script>\n",
              "  </div>\n",
              "\n",
              "    </div>\n",
              "  </div>\n"
            ],
            "application/vnd.google.colaboratory.intrinsic+json": {
              "type": "dataframe",
              "variable_name": "df",
              "summary": "{\n  \"name\": \"df\",\n  \"rows\": 4,\n  \"fields\": [\n    {\n      \"column\": \"Fullname\",\n      \"properties\": {\n        \"dtype\": \"string\",\n        \"num_unique_values\": 4,\n        \"samples\": [\n          \"Sam Sonite\",\n          \"Felonius Gru\",\n          \"Pitch Wiratch\"\n        ],\n        \"semantic_type\": \"\",\n        \"description\": \"\"\n      }\n    },\n    {\n      \"column\": \"Birthdate\",\n      \"properties\": {\n        \"dtype\": \"object\",\n        \"num_unique_values\": 4,\n        \"samples\": [\n          \"10/03/1910\",\n          \"28/09/1960\",\n          \"15/05/2015\"\n        ],\n        \"semantic_type\": \"\",\n        \"description\": \"\"\n      }\n    },\n    {\n      \"column\": \"Address\",\n      \"properties\": {\n        \"dtype\": \"string\",\n        \"num_unique_values\": 4,\n        \"samples\": [\n          \"13-15 avenue de la Libert\\u00e9, Luxembourg, 1931\",\n          \"1234 Albuquerque, New Mexico, USA, 87777\",\n          \"555 KKU Village, Khon Kaen, Thailand, 40000\"\n        ],\n        \"semantic_type\": \"\",\n        \"description\": \"\"\n      }\n    }\n  ]\n}"
            }
          },
          "metadata": {},
          "execution_count": 10
        }
      ],
      "source": [
        "import pandas as pd\n",
        "df = pd.DataFrame({\"Fullname\": [\"Pitch Wiratch\", \"Sam Sonite\", \"Mickey Mouse\", \"Felonius Gru\"],\n",
        "                   \"Birthdate\": [\"15/05/2015\", \"10/03/1910\", \"18/11/1928\", \"28/09/1960\"],\n",
        "                   \"Address\": [\"555 KKU Village, Khon Kaen, Thailand, 40000\",\n",
        "                               \"13-15 avenue de la Liberté, Luxembourg, 1931\",\n",
        "                               \"1375 Lake Buena Vista, FL, USA, 32830\",\n",
        "                               \"1234 Albuquerque, New Mexico, USA, 87777\"]})\n",
        "df"
      ]
    },
    {
      "cell_type": "code",
      "source": [
        "# your code here\n",
        "import pandas as pd\n",
        "import datetime\n",
        "\n",
        "df[['Firstname', 'Lastname']] = df['Fullname'].str.split(' ', expand=True)\n",
        "df['Birthdate'] = pd.to_datetime(df['Birthdate'], format='%d/%m/%Y')\n",
        "df['Weekday'] = df['Birthdate'].dt.day_name()\n",
        "df['Country'] = df['Address'].str.split(', ').str[-2]\n",
        "df"
      ],
      "metadata": {
        "id": "uJdkKzFjFYGO",
        "outputId": "259b2aaf-b050-4807-c073-3c57c490b95b",
        "colab": {
          "base_uri": "https://localhost:8080/",
          "height": 175
        }
      },
      "execution_count": 13,
      "outputs": [
        {
          "output_type": "execute_result",
          "data": {
            "text/plain": [
              "        Fullname  Birthdate                                       Address  \\\n",
              "0  Pitch Wiratch 2015-05-15   555 KKU Village, Khon Kaen, Thailand, 40000   \n",
              "1     Sam Sonite 1910-03-10  13-15 avenue de la Liberté, Luxembourg, 1931   \n",
              "2   Mickey Mouse 1928-11-18         1375 Lake Buena Vista, FL, USA, 32830   \n",
              "3   Felonius Gru 1960-09-28      1234 Albuquerque, New Mexico, USA, 87777   \n",
              "\n",
              "  Firstname Lastname    Weekday     Country  \n",
              "0     Pitch  Wiratch     Friday    Thailand  \n",
              "1       Sam   Sonite   Thursday  Luxembourg  \n",
              "2    Mickey    Mouse     Sunday         USA  \n",
              "3  Felonius      Gru  Wednesday         USA  "
            ],
            "text/html": [
              "\n",
              "  <div id=\"df-c88c2df5-d23b-459f-ab13-d22d516a584c\" class=\"colab-df-container\">\n",
              "    <div>\n",
              "<style scoped>\n",
              "    .dataframe tbody tr th:only-of-type {\n",
              "        vertical-align: middle;\n",
              "    }\n",
              "\n",
              "    .dataframe tbody tr th {\n",
              "        vertical-align: top;\n",
              "    }\n",
              "\n",
              "    .dataframe thead th {\n",
              "        text-align: right;\n",
              "    }\n",
              "</style>\n",
              "<table border=\"1\" class=\"dataframe\">\n",
              "  <thead>\n",
              "    <tr style=\"text-align: right;\">\n",
              "      <th></th>\n",
              "      <th>Fullname</th>\n",
              "      <th>Birthdate</th>\n",
              "      <th>Address</th>\n",
              "      <th>Firstname</th>\n",
              "      <th>Lastname</th>\n",
              "      <th>Weekday</th>\n",
              "      <th>Country</th>\n",
              "    </tr>\n",
              "  </thead>\n",
              "  <tbody>\n",
              "    <tr>\n",
              "      <th>0</th>\n",
              "      <td>Pitch Wiratch</td>\n",
              "      <td>2015-05-15</td>\n",
              "      <td>555 KKU Village, Khon Kaen, Thailand, 40000</td>\n",
              "      <td>Pitch</td>\n",
              "      <td>Wiratch</td>\n",
              "      <td>Friday</td>\n",
              "      <td>Thailand</td>\n",
              "    </tr>\n",
              "    <tr>\n",
              "      <th>1</th>\n",
              "      <td>Sam Sonite</td>\n",
              "      <td>1910-03-10</td>\n",
              "      <td>13-15 avenue de la Liberté, Luxembourg, 1931</td>\n",
              "      <td>Sam</td>\n",
              "      <td>Sonite</td>\n",
              "      <td>Thursday</td>\n",
              "      <td>Luxembourg</td>\n",
              "    </tr>\n",
              "    <tr>\n",
              "      <th>2</th>\n",
              "      <td>Mickey Mouse</td>\n",
              "      <td>1928-11-18</td>\n",
              "      <td>1375 Lake Buena Vista, FL, USA, 32830</td>\n",
              "      <td>Mickey</td>\n",
              "      <td>Mouse</td>\n",
              "      <td>Sunday</td>\n",
              "      <td>USA</td>\n",
              "    </tr>\n",
              "    <tr>\n",
              "      <th>3</th>\n",
              "      <td>Felonius Gru</td>\n",
              "      <td>1960-09-28</td>\n",
              "      <td>1234 Albuquerque, New Mexico, USA, 87777</td>\n",
              "      <td>Felonius</td>\n",
              "      <td>Gru</td>\n",
              "      <td>Wednesday</td>\n",
              "      <td>USA</td>\n",
              "    </tr>\n",
              "  </tbody>\n",
              "</table>\n",
              "</div>\n",
              "    <div class=\"colab-df-buttons\">\n",
              "\n",
              "  <div class=\"colab-df-container\">\n",
              "    <button class=\"colab-df-convert\" onclick=\"convertToInteractive('df-c88c2df5-d23b-459f-ab13-d22d516a584c')\"\n",
              "            title=\"Convert this dataframe to an interactive table.\"\n",
              "            style=\"display:none;\">\n",
              "\n",
              "  <svg xmlns=\"http://www.w3.org/2000/svg\" height=\"24px\" viewBox=\"0 -960 960 960\">\n",
              "    <path d=\"M120-120v-720h720v720H120Zm60-500h600v-160H180v160Zm220 220h160v-160H400v160Zm0 220h160v-160H400v160ZM180-400h160v-160H180v160Zm440 0h160v-160H620v160ZM180-180h160v-160H180v160Zm440 0h160v-160H620v160Z\"/>\n",
              "  </svg>\n",
              "    </button>\n",
              "\n",
              "  <style>\n",
              "    .colab-df-container {\n",
              "      display:flex;\n",
              "      gap: 12px;\n",
              "    }\n",
              "\n",
              "    .colab-df-convert {\n",
              "      background-color: #E8F0FE;\n",
              "      border: none;\n",
              "      border-radius: 50%;\n",
              "      cursor: pointer;\n",
              "      display: none;\n",
              "      fill: #1967D2;\n",
              "      height: 32px;\n",
              "      padding: 0 0 0 0;\n",
              "      width: 32px;\n",
              "    }\n",
              "\n",
              "    .colab-df-convert:hover {\n",
              "      background-color: #E2EBFA;\n",
              "      box-shadow: 0px 1px 2px rgba(60, 64, 67, 0.3), 0px 1px 3px 1px rgba(60, 64, 67, 0.15);\n",
              "      fill: #174EA6;\n",
              "    }\n",
              "\n",
              "    .colab-df-buttons div {\n",
              "      margin-bottom: 4px;\n",
              "    }\n",
              "\n",
              "    [theme=dark] .colab-df-convert {\n",
              "      background-color: #3B4455;\n",
              "      fill: #D2E3FC;\n",
              "    }\n",
              "\n",
              "    [theme=dark] .colab-df-convert:hover {\n",
              "      background-color: #434B5C;\n",
              "      box-shadow: 0px 1px 3px 1px rgba(0, 0, 0, 0.15);\n",
              "      filter: drop-shadow(0px 1px 2px rgba(0, 0, 0, 0.3));\n",
              "      fill: #FFFFFF;\n",
              "    }\n",
              "  </style>\n",
              "\n",
              "    <script>\n",
              "      const buttonEl =\n",
              "        document.querySelector('#df-c88c2df5-d23b-459f-ab13-d22d516a584c button.colab-df-convert');\n",
              "      buttonEl.style.display =\n",
              "        google.colab.kernel.accessAllowed ? 'block' : 'none';\n",
              "\n",
              "      async function convertToInteractive(key) {\n",
              "        const element = document.querySelector('#df-c88c2df5-d23b-459f-ab13-d22d516a584c');\n",
              "        const dataTable =\n",
              "          await google.colab.kernel.invokeFunction('convertToInteractive',\n",
              "                                                    [key], {});\n",
              "        if (!dataTable) return;\n",
              "\n",
              "        const docLinkHtml = 'Like what you see? Visit the ' +\n",
              "          '<a target=\"_blank\" href=https://colab.research.google.com/notebooks/data_table.ipynb>data table notebook</a>'\n",
              "          + ' to learn more about interactive tables.';\n",
              "        element.innerHTML = '';\n",
              "        dataTable['output_type'] = 'display_data';\n",
              "        await google.colab.output.renderOutput(dataTable, element);\n",
              "        const docLink = document.createElement('div');\n",
              "        docLink.innerHTML = docLinkHtml;\n",
              "        element.appendChild(docLink);\n",
              "      }\n",
              "    </script>\n",
              "  </div>\n",
              "\n",
              "\n",
              "<div id=\"df-342823b1-4279-4318-8b07-5744863ddfc2\">\n",
              "  <button class=\"colab-df-quickchart\" onclick=\"quickchart('df-342823b1-4279-4318-8b07-5744863ddfc2')\"\n",
              "            title=\"Suggest charts\"\n",
              "            style=\"display:none;\">\n",
              "\n",
              "<svg xmlns=\"http://www.w3.org/2000/svg\" height=\"24px\"viewBox=\"0 0 24 24\"\n",
              "     width=\"24px\">\n",
              "    <g>\n",
              "        <path d=\"M19 3H5c-1.1 0-2 .9-2 2v14c0 1.1.9 2 2 2h14c1.1 0 2-.9 2-2V5c0-1.1-.9-2-2-2zM9 17H7v-7h2v7zm4 0h-2V7h2v10zm4 0h-2v-4h2v4z\"/>\n",
              "    </g>\n",
              "</svg>\n",
              "  </button>\n",
              "\n",
              "<style>\n",
              "  .colab-df-quickchart {\n",
              "      --bg-color: #E8F0FE;\n",
              "      --fill-color: #1967D2;\n",
              "      --hover-bg-color: #E2EBFA;\n",
              "      --hover-fill-color: #174EA6;\n",
              "      --disabled-fill-color: #AAA;\n",
              "      --disabled-bg-color: #DDD;\n",
              "  }\n",
              "\n",
              "  [theme=dark] .colab-df-quickchart {\n",
              "      --bg-color: #3B4455;\n",
              "      --fill-color: #D2E3FC;\n",
              "      --hover-bg-color: #434B5C;\n",
              "      --hover-fill-color: #FFFFFF;\n",
              "      --disabled-bg-color: #3B4455;\n",
              "      --disabled-fill-color: #666;\n",
              "  }\n",
              "\n",
              "  .colab-df-quickchart {\n",
              "    background-color: var(--bg-color);\n",
              "    border: none;\n",
              "    border-radius: 50%;\n",
              "    cursor: pointer;\n",
              "    display: none;\n",
              "    fill: var(--fill-color);\n",
              "    height: 32px;\n",
              "    padding: 0;\n",
              "    width: 32px;\n",
              "  }\n",
              "\n",
              "  .colab-df-quickchart:hover {\n",
              "    background-color: var(--hover-bg-color);\n",
              "    box-shadow: 0 1px 2px rgba(60, 64, 67, 0.3), 0 1px 3px 1px rgba(60, 64, 67, 0.15);\n",
              "    fill: var(--button-hover-fill-color);\n",
              "  }\n",
              "\n",
              "  .colab-df-quickchart-complete:disabled,\n",
              "  .colab-df-quickchart-complete:disabled:hover {\n",
              "    background-color: var(--disabled-bg-color);\n",
              "    fill: var(--disabled-fill-color);\n",
              "    box-shadow: none;\n",
              "  }\n",
              "\n",
              "  .colab-df-spinner {\n",
              "    border: 2px solid var(--fill-color);\n",
              "    border-color: transparent;\n",
              "    border-bottom-color: var(--fill-color);\n",
              "    animation:\n",
              "      spin 1s steps(1) infinite;\n",
              "  }\n",
              "\n",
              "  @keyframes spin {\n",
              "    0% {\n",
              "      border-color: transparent;\n",
              "      border-bottom-color: var(--fill-color);\n",
              "      border-left-color: var(--fill-color);\n",
              "    }\n",
              "    20% {\n",
              "      border-color: transparent;\n",
              "      border-left-color: var(--fill-color);\n",
              "      border-top-color: var(--fill-color);\n",
              "    }\n",
              "    30% {\n",
              "      border-color: transparent;\n",
              "      border-left-color: var(--fill-color);\n",
              "      border-top-color: var(--fill-color);\n",
              "      border-right-color: var(--fill-color);\n",
              "    }\n",
              "    40% {\n",
              "      border-color: transparent;\n",
              "      border-right-color: var(--fill-color);\n",
              "      border-top-color: var(--fill-color);\n",
              "    }\n",
              "    60% {\n",
              "      border-color: transparent;\n",
              "      border-right-color: var(--fill-color);\n",
              "    }\n",
              "    80% {\n",
              "      border-color: transparent;\n",
              "      border-right-color: var(--fill-color);\n",
              "      border-bottom-color: var(--fill-color);\n",
              "    }\n",
              "    90% {\n",
              "      border-color: transparent;\n",
              "      border-bottom-color: var(--fill-color);\n",
              "    }\n",
              "  }\n",
              "</style>\n",
              "\n",
              "  <script>\n",
              "    async function quickchart(key) {\n",
              "      const quickchartButtonEl =\n",
              "        document.querySelector('#' + key + ' button');\n",
              "      quickchartButtonEl.disabled = true;  // To prevent multiple clicks.\n",
              "      quickchartButtonEl.classList.add('colab-df-spinner');\n",
              "      try {\n",
              "        const charts = await google.colab.kernel.invokeFunction(\n",
              "            'suggestCharts', [key], {});\n",
              "      } catch (error) {\n",
              "        console.error('Error during call to suggestCharts:', error);\n",
              "      }\n",
              "      quickchartButtonEl.classList.remove('colab-df-spinner');\n",
              "      quickchartButtonEl.classList.add('colab-df-quickchart-complete');\n",
              "    }\n",
              "    (() => {\n",
              "      let quickchartButtonEl =\n",
              "        document.querySelector('#df-342823b1-4279-4318-8b07-5744863ddfc2 button');\n",
              "      quickchartButtonEl.style.display =\n",
              "        google.colab.kernel.accessAllowed ? 'block' : 'none';\n",
              "    })();\n",
              "  </script>\n",
              "</div>\n",
              "\n",
              "  <div id=\"id_9110fd9a-504f-489e-b674-bd766696e703\">\n",
              "    <style>\n",
              "      .colab-df-generate {\n",
              "        background-color: #E8F0FE;\n",
              "        border: none;\n",
              "        border-radius: 50%;\n",
              "        cursor: pointer;\n",
              "        display: none;\n",
              "        fill: #1967D2;\n",
              "        height: 32px;\n",
              "        padding: 0 0 0 0;\n",
              "        width: 32px;\n",
              "      }\n",
              "\n",
              "      .colab-df-generate:hover {\n",
              "        background-color: #E2EBFA;\n",
              "        box-shadow: 0px 1px 2px rgba(60, 64, 67, 0.3), 0px 1px 3px 1px rgba(60, 64, 67, 0.15);\n",
              "        fill: #174EA6;\n",
              "      }\n",
              "\n",
              "      [theme=dark] .colab-df-generate {\n",
              "        background-color: #3B4455;\n",
              "        fill: #D2E3FC;\n",
              "      }\n",
              "\n",
              "      [theme=dark] .colab-df-generate:hover {\n",
              "        background-color: #434B5C;\n",
              "        box-shadow: 0px 1px 3px 1px rgba(0, 0, 0, 0.15);\n",
              "        filter: drop-shadow(0px 1px 2px rgba(0, 0, 0, 0.3));\n",
              "        fill: #FFFFFF;\n",
              "      }\n",
              "    </style>\n",
              "    <button class=\"colab-df-generate\" onclick=\"generateWithVariable('df')\"\n",
              "            title=\"Generate code using this dataframe.\"\n",
              "            style=\"display:none;\">\n",
              "\n",
              "  <svg xmlns=\"http://www.w3.org/2000/svg\" height=\"24px\"viewBox=\"0 0 24 24\"\n",
              "       width=\"24px\">\n",
              "    <path d=\"M7,19H8.4L18.45,9,17,7.55,7,17.6ZM5,21V16.75L18.45,3.32a2,2,0,0,1,2.83,0l1.4,1.43a1.91,1.91,0,0,1,.58,1.4,1.91,1.91,0,0,1-.58,1.4L9.25,21ZM18.45,9,17,7.55Zm-12,3A5.31,5.31,0,0,0,4.9,8.1,5.31,5.31,0,0,0,1,6.5,5.31,5.31,0,0,0,4.9,4.9,5.31,5.31,0,0,0,6.5,1,5.31,5.31,0,0,0,8.1,4.9,5.31,5.31,0,0,0,12,6.5,5.46,5.46,0,0,0,6.5,12Z\"/>\n",
              "  </svg>\n",
              "    </button>\n",
              "    <script>\n",
              "      (() => {\n",
              "      const buttonEl =\n",
              "        document.querySelector('#id_9110fd9a-504f-489e-b674-bd766696e703 button.colab-df-generate');\n",
              "      buttonEl.style.display =\n",
              "        google.colab.kernel.accessAllowed ? 'block' : 'none';\n",
              "\n",
              "      buttonEl.onclick = () => {\n",
              "        google.colab.notebook.generateWithVariable('df');\n",
              "      }\n",
              "      })();\n",
              "    </script>\n",
              "  </div>\n",
              "\n",
              "    </div>\n",
              "  </div>\n"
            ],
            "application/vnd.google.colaboratory.intrinsic+json": {
              "type": "dataframe",
              "variable_name": "df",
              "summary": "{\n  \"name\": \"df\",\n  \"rows\": 4,\n  \"fields\": [\n    {\n      \"column\": \"Fullname\",\n      \"properties\": {\n        \"dtype\": \"string\",\n        \"num_unique_values\": 4,\n        \"samples\": [\n          \"Sam Sonite\",\n          \"Felonius Gru\",\n          \"Pitch Wiratch\"\n        ],\n        \"semantic_type\": \"\",\n        \"description\": \"\"\n      }\n    },\n    {\n      \"column\": \"Birthdate\",\n      \"properties\": {\n        \"dtype\": \"date\",\n        \"min\": \"1910-03-10 00:00:00\",\n        \"max\": \"2015-05-15 00:00:00\",\n        \"num_unique_values\": 4,\n        \"samples\": [\n          \"1910-03-10 00:00:00\",\n          \"1960-09-28 00:00:00\",\n          \"2015-05-15 00:00:00\"\n        ],\n        \"semantic_type\": \"\",\n        \"description\": \"\"\n      }\n    },\n    {\n      \"column\": \"Address\",\n      \"properties\": {\n        \"dtype\": \"string\",\n        \"num_unique_values\": 4,\n        \"samples\": [\n          \"13-15 avenue de la Libert\\u00e9, Luxembourg, 1931\",\n          \"1234 Albuquerque, New Mexico, USA, 87777\",\n          \"555 KKU Village, Khon Kaen, Thailand, 40000\"\n        ],\n        \"semantic_type\": \"\",\n        \"description\": \"\"\n      }\n    },\n    {\n      \"column\": \"Firstname\",\n      \"properties\": {\n        \"dtype\": \"string\",\n        \"num_unique_values\": 4,\n        \"samples\": [\n          \"Sam\",\n          \"Felonius\",\n          \"Pitch\"\n        ],\n        \"semantic_type\": \"\",\n        \"description\": \"\"\n      }\n    },\n    {\n      \"column\": \"Lastname\",\n      \"properties\": {\n        \"dtype\": \"string\",\n        \"num_unique_values\": 4,\n        \"samples\": [\n          \"Sonite\",\n          \"Gru\",\n          \"Wiratch\"\n        ],\n        \"semantic_type\": \"\",\n        \"description\": \"\"\n      }\n    },\n    {\n      \"column\": \"Weekday\",\n      \"properties\": {\n        \"dtype\": \"string\",\n        \"num_unique_values\": 4,\n        \"samples\": [\n          \"Thursday\",\n          \"Wednesday\",\n          \"Friday\"\n        ],\n        \"semantic_type\": \"\",\n        \"description\": \"\"\n      }\n    },\n    {\n      \"column\": \"Country\",\n      \"properties\": {\n        \"dtype\": \"string\",\n        \"num_unique_values\": 3,\n        \"samples\": [\n          \"Thailand\",\n          \"Luxembourg\",\n          \"USA\"\n        ],\n        \"semantic_type\": \"\",\n        \"description\": \"\"\n      }\n    }\n  ]\n}"
            }
          },
          "metadata": {},
          "execution_count": 13
        }
      ]
    },
    {
      "cell_type": "markdown",
      "metadata": {
        "id": "s3J7WMDJkpS_"
      },
      "source": [
        "4) ให้คัดแยกอีเมลทั้งหมดจากข้อความต่อไปนี้"
      ]
    },
    {
      "cell_type": "code",
      "execution_count": 14,
      "metadata": {
        "colab": {
          "base_uri": "https://localhost:8080/"
        },
        "id": "hA_3EDQClP1L",
        "outputId": "5a35095d-34dc-45c7-ef7e-6d5c9afd930d"
      },
      "outputs": [
        {
          "output_type": "stream",
          "name": "stdout",
          "text": [
            "In the heart of the city, Emily navigated daily chaos in her bustling office. \n",
            "Every morning, Emily boarded a bus from redline@bus.com, finding solace in the routine. \n",
            "Amid the rhythmic motion of the bus, she exchanged tired smiles with fellow passengers, \n",
            "whose email addresses are jason.patel@gmail.com, redpanda123@hotmail.com, and chachacha555@kkumail.com. \n",
            "Conversations buzzed about projects and deadlines, creating a unique camaraderie.\n"
          ]
        }
      ],
      "source": [
        "text = \"In the heart of the city, Emily navigated daily chaos in her bustling office. \\nEvery morning, Emily boarded a bus from redline@bus.com, finding solace in the routine. \\nAmid the rhythmic motion of the bus, she exchanged tired smiles with fellow passengers, \\nwhose email addresses are jason.patel@gmail.com, redpanda123@hotmail.com, and chachacha555@kkumail.com. \\nConversations buzzed about projects and deadlines, creating a unique camaraderie.\"\n",
        "print(text)"
      ]
    },
    {
      "cell_type": "code",
      "source": [
        "# your code here\n",
        "emails = re.findall(r'\\b[A-Za-z0-9._%+-]+@[A-Za-z0-9.-]+\\.[A-Z|a-z]{2,}\\b', text)\n",
        "emails"
      ],
      "metadata": {
        "id": "Ff0SO_VMGDgw",
        "outputId": "9586198e-6a51-474f-c9fb-a36f001ad08a",
        "colab": {
          "base_uri": "https://localhost:8080/"
        }
      },
      "execution_count": 17,
      "outputs": [
        {
          "output_type": "execute_result",
          "data": {
            "text/plain": [
              "['redline@bus.com',\n",
              " 'jason.patel@gmail.com',\n",
              " 'redpanda123@hotmail.com',\n",
              " 'chachacha555@kkumail.com']"
            ]
          },
          "metadata": {},
          "execution_count": 17
        }
      ]
    },
    {
      "cell_type": "markdown",
      "metadata": {
        "id": "bSsqAVJWuHpR"
      },
      "source": [
        "5) สร้าง word tokens และ 2-gram และ 3-gram tokens จากข้อความต่อไปนี้"
      ]
    },
    {
      "cell_type": "code",
      "execution_count": 23,
      "metadata": {
        "colab": {
          "base_uri": "https://localhost:8080/",
          "height": 35
        },
        "id": "0qswOPb3uOxf",
        "outputId": "ba0785dc-346f-4482-cb86-3114f47cd108"
      },
      "outputs": [
        {
          "output_type": "execute_result",
          "data": {
            "text/plain": [
              "'A day without a friend is like a pot without a single drop of honey.'"
            ],
            "application/vnd.google.colaboratory.intrinsic+json": {
              "type": "string"
            }
          },
          "metadata": {},
          "execution_count": 23
        }
      ],
      "source": [
        "pooh = \"A day without a friend is like a pot without a single drop of honey.\"\n",
        "print(pooh)"
      ]
    },
    {
      "cell_type": "code",
      "source": [
        "# your code here\n",
        "from nltk import word_tokenize\n",
        "from nltk.util import ngrams\n",
        "import nltk\n",
        "nltk.download('punkt')\n",
        "print(pooh)"
      ],
      "metadata": {
        "id": "9a5OJwFoGTz-",
        "outputId": "d8daa80b-eb11-4ae4-f3c2-b97a586da09f",
        "colab": {
          "base_uri": "https://localhost:8080/"
        }
      },
      "execution_count": 24,
      "outputs": [
        {
          "output_type": "stream",
          "name": "stdout",
          "text": [
            "A day without a friend is like a pot without a single drop of honey.\n"
          ]
        },
        {
          "output_type": "stream",
          "name": "stderr",
          "text": [
            "[nltk_data] Downloading package punkt to /root/nltk_data...\n",
            "[nltk_data]   Package punkt is already up-to-date!\n"
          ]
        }
      ]
    },
    {
      "cell_type": "code",
      "source": [
        "# Word tokens\n",
        "tokens = word_tokenize(pooh)\n",
        "print(f\"Word tokens: {tokens}\")"
      ],
      "metadata": {
        "id": "espQNCtAGwZm",
        "outputId": "e7706503-fada-4922-c5d0-69e4ca967df3",
        "colab": {
          "base_uri": "https://localhost:8080/"
        }
      },
      "execution_count": 28,
      "outputs": [
        {
          "output_type": "stream",
          "name": "stdout",
          "text": [
            "Word tokens: ['A', 'day', 'without', 'a', 'friend', 'is', 'like', 'a', 'pot', 'without', 'a', 'single', 'drop', 'of', 'honey', '.']\n"
          ]
        }
      ]
    },
    {
      "cell_type": "code",
      "execution_count": 29,
      "metadata": {
        "colab": {
          "base_uri": "https://localhost:8080/"
        },
        "id": "bf4bmxShuQH7",
        "outputId": "bf0ded30-a011-4cee-a885-3d3b0b305ac3"
      },
      "outputs": [
        {
          "output_type": "stream",
          "name": "stdout",
          "text": [
            "2-gram tokens: [('A', 'day'), ('day', 'without'), ('without', 'a'), ('a', 'friend'), ('friend', 'is'), ('is', 'like'), ('like', 'a'), ('a', 'pot'), ('pot', 'without'), ('without', 'a'), ('a', 'single'), ('single', 'drop'), ('drop', 'of'), ('of', 'honey'), ('honey', '.')]\n"
          ]
        }
      ],
      "source": [
        "# 2-gram\n",
        "bigrams = list(ngrams(tokens, 2))\n",
        "print(f\"2-gram tokens: {bigrams}\")"
      ]
    },
    {
      "cell_type": "code",
      "source": [
        "# 3-gram\n",
        "trigrams = list(ngrams(tokens, 3))\n",
        "print(f\"3-gram tokens: {trigrams}\")"
      ],
      "metadata": {
        "id": "upoZgho9Grg-",
        "outputId": "8078a7bb-e0c1-416b-fbb9-fe4388654f69",
        "colab": {
          "base_uri": "https://localhost:8080/"
        }
      },
      "execution_count": 30,
      "outputs": [
        {
          "output_type": "stream",
          "name": "stdout",
          "text": [
            "3-gram tokens: [('A', 'day', 'without'), ('day', 'without', 'a'), ('without', 'a', 'friend'), ('a', 'friend', 'is'), ('friend', 'is', 'like'), ('is', 'like', 'a'), ('like', 'a', 'pot'), ('a', 'pot', 'without'), ('pot', 'without', 'a'), ('without', 'a', 'single'), ('a', 'single', 'drop'), ('single', 'drop', 'of'), ('drop', 'of', 'honey'), ('of', 'honey', '.')]\n"
          ]
        }
      ]
    },
    {
      "cell_type": "markdown",
      "metadata": {
        "id": "fS2f8yWEDxb-"
      },
      "source": [
        "6) ให้ทำการ stem และ lemmatize ข้อความต่อไปนี้"
      ]
    },
    {
      "cell_type": "code",
      "execution_count": 31,
      "metadata": {
        "colab": {
          "base_uri": "https://localhost:8080/"
        },
        "outputId": "765508f5-ca1a-4a71-808e-73626a0fd4fa",
        "id": "QepWTBbnDxb_"
      },
      "outputs": [
        {
          "output_type": "stream",
          "name": "stdout",
          "text": [
            "A day without a friend is like a pot without a single drop of honey.\n"
          ]
        }
      ],
      "source": [
        "pooh = \"A day without a friend is like a pot without a single drop of honey.\"\n",
        "print(pooh)"
      ]
    },
    {
      "cell_type": "code",
      "source": [
        "# your code here\n",
        "from nltk.stem import PorterStemmer\n",
        "from nltk.stem import WordNetLemmatizer\n",
        "nltk.download('wordnet')\n",
        "\n",
        "# Stemming\n",
        "stemmer = PorterStemmer()\n",
        "stemmed_words = [stemmer.stem(word) for word in tokens]\n",
        "print(f\"Stemmed words: {stemmed_words}\")\n",
        "\n",
        "# Lemmatization\n",
        "lemmatizer = WordNetLemmatizer()\n",
        "lemmatized_words = [lemmatizer.lemmatize(word) for word in tokens]\n",
        "print(f\"Lemmatized words: {lemmatized_words}\")"
      ],
      "metadata": {
        "id": "XGlT_oMQHWYF",
        "outputId": "1bea1925-3c3b-4185-e417-7f5d4bf7f085",
        "colab": {
          "base_uri": "https://localhost:8080/"
        }
      },
      "execution_count": 34,
      "outputs": [
        {
          "output_type": "stream",
          "name": "stdout",
          "text": [
            "Stemmed words: ['a', 'day', 'without', 'a', 'friend', 'is', 'like', 'a', 'pot', 'without', 'a', 'singl', 'drop', 'of', 'honey', '.']\n",
            "Lemmatized words: ['A', 'day', 'without', 'a', 'friend', 'is', 'like', 'a', 'pot', 'without', 'a', 'single', 'drop', 'of', 'honey', '.']\n"
          ]
        },
        {
          "output_type": "stream",
          "name": "stderr",
          "text": [
            "[nltk_data] Downloading package wordnet to /root/nltk_data...\n",
            "[nltk_data]   Package wordnet is already up-to-date!\n"
          ]
        }
      ]
    }
  ],
  "metadata": {
    "colab": {
      "provenance": [],
      "include_colab_link": true
    },
    "kernelspec": {
      "display_name": "Python 3 (ipykernel)",
      "language": "python",
      "name": "python3"
    },
    "language_info": {
      "codemirror_mode": {
        "name": "ipython",
        "version": 3
      },
      "file_extension": ".py",
      "mimetype": "text/x-python",
      "name": "python",
      "nbconvert_exporter": "python",
      "pygments_lexer": "ipython3",
      "version": "3.8.8"
    }
  },
  "nbformat": 4,
  "nbformat_minor": 0
}